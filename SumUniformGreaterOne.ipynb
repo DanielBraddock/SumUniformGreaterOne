{
  "nbformat": 4,
  "nbformat_minor": 0,
  "metadata": {
    "colab": {
      "name": "SumUniformGreaterOne.ipynb",
      "provenance": [],
      "collapsed_sections": [],
      "authorship_tag": "ABX9TyMSCtYXf2bq90bLAG1t/1MF",
      "include_colab_link": true
    },
    "kernelspec": {
      "name": "python3",
      "display_name": "Python 3"
    },
    "language_info": {
      "name": "python"
    }
  },
  "cells": [
    {
      "cell_type": "markdown",
      "metadata": {
        "id": "view-in-github",
        "colab_type": "text"
      },
      "source": [
        "<a href=\"https://colab.research.google.com/github/DanEggleton/AufGehtsAna.github.io/blob/master/SumUniformGreaterOne.ipynb\" target=\"_parent\"><img src=\"https://colab.research.google.com/assets/colab-badge.svg\" alt=\"Open In Colab\"/></a>"
      ]
    },
    {
      "cell_type": "code",
      "source": [
        "import numpy as np\n",
        "from random import *\n",
        "import matplotlib.pyplot as plt\n",
        "import math\n",
        "\n",
        "print(\"All modules imported.\")\n",
        "print(\"Lovely.\")\n",
        "\n"
      ],
      "metadata": {
        "colab": {
          "base_uri": "https://localhost:8080/"
        },
        "id": "v5-BZOID0KiY",
        "outputId": "d67b453c-e0ba-410a-8d41-a68c6833283c"
      },
      "execution_count": 37,
      "outputs": [
        {
          "output_type": "stream",
          "name": "stdout",
          "text": [
            "All modules imported.\n",
            "Lovely.\n"
          ]
        }
      ]
    },
    {
      "cell_type": "code",
      "execution_count": 26,
      "metadata": {
        "colab": {
          "base_uri": "https://localhost:8080/"
        },
        "id": "V1yXX-ADzxWI",
        "outputId": "37f6b90a-24c7-4902-9cae-467574f3e421"
      },
      "outputs": [
        {
          "output_type": "stream",
          "name": "stdout",
          "text": [
            "All simulations complete.\n",
            "Lovely.\n"
          ]
        }
      ],
      "source": [
        "results = []\n",
        "sequence = []\n",
        "for sim in range(1000):\n",
        "    sum = 0\n",
        "    n = 0\n",
        "    while sum < 1:\n",
        "        n += 1\n",
        "        sum += random()\n",
        "    results.append(n)\n",
        "    sequence.append(np.mean(results))\n",
        "\n",
        "print(\"All simulations complete.\")\n",
        "print(\"Lovely.\")\n",
        "\n"
      ]
    },
    {
      "cell_type": "code",
      "source": [
        "plt.plot(sequence, label = \"simulation\")\n",
        "plt.plot([1, 1000], [math.e, math.e], label = \"mathematical constant e\")\n",
        "plt.legend()\n",
        "plt.xlabel(\"simulation i\")\n",
        "plt.ylabel(\"cumulative average minimum draws\")\n",
        "plt.show()\n",
        "\n",
        "\n",
        "print(\"Tends to e.\")\n",
        "print(\"Lovely.\")"
      ],
      "metadata": {
        "colab": {
          "base_uri": "https://localhost:8080/",
          "height": 315
        },
        "id": "aZwjyqOp3uQU",
        "outputId": "ef50c85d-f2e1-4853-95da-513fddb2460e"
      },
      "execution_count": 38,
      "outputs": [
        {
          "output_type": "display_data",
          "data": {
            "image/png": "[encoded data removed]",
            "text/plain": [
              "<Figure size 432x288 with 1 Axes>"
            ]
          },
          "metadata": {
            "needs_background": "light"
          }
        },
        {
          "output_type": "stream",
          "name": "stdout",
          "text": [
            "Tends to e.\n",
            "Lovely.\n"
          ]
        }
      ]
    },
    {
      "cell_type": "code",
      "source": [
        "from google.colab import drive\n",
        "drive.mount('/content/drive')"
      ],
      "metadata": {
        "id": "UYDWaqHP759C"
      },
      "execution_count": null,
      "outputs": []
    }
  ]
}